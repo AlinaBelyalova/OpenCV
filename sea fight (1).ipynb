{
 "cells": [
  {
   "cell_type": "markdown",
   "id": "8a47b109-7097-4650-bae6-d2c5d829dd3c",
   "metadata": {
    "tags": []
   },
   "source": [
    "# Морской бой"
   ]
  },
  {
   "cell_type": "markdown",
   "id": "064c640f-c8b5-4012-b60d-9a3600cd6b24",
   "metadata": {},
   "source": [
    "```{note}\n",
    ":class: dropdown \n",
    "**Правила**\n",
    "\n",
    "Цель игры:\n",
    "Цель игры — уничтожить все корабли противника первым.\n",
    "\n",
    "Корабли:\n",
    "Игроки расставляют свои корабли на своём поле.\n",
    "- 1 корабль длиной 4 клетки \n",
    "- 2 корабля длиной 3 клетки \n",
    "- 3 корабля длиной 2 клетки \n",
    "- 4 корабля длиной 1 клетка.\n",
    "Корабли могут размещаться горизонтально или вертикально и не должны касаться друг друга.\n",
    "\n",
    "Процесс игры :\n",
    "Игроки стреляют по очереди (указанием на клетку поля противника, например, 1 1.\n",
    "Если выстрел попал в корабль противника, объявляется \"попадание\" (и эта клетка помечается). Если все клетки корабля были поражены, корабль считается потопленным.\n",
    "Если выстрел пришелся на пустую клетку, объявляется \"промах\".\n",
    "\n",
    "Победа:\n",
    "Побеждает тот, кто первым потопит все корабли противника.\n",
    "\n",
    "ВЫХОД ИЗ ИГРЫ: КЛАВИША \"q\".\n",
    "```"
   ]
  },
  {
   "cell_type": "markdown",
   "id": "c7750d0b-6c1e-484b-b01f-c9796dc4c962",
   "metadata": {},
   "source": [
    "## Импорт бибилотек"
   ]
  },
  {
   "cell_type": "code",
   "execution_count": 1,
   "id": "4c045a6e-2f3e-413d-9728-7ccbaddfe7fb",
   "metadata": {},
   "outputs": [],
   "source": [
    "import cv2\n",
    "import numpy as np\n",
    "import random"
   ]
  },
  {
   "cell_type": "markdown",
   "id": "7c7bdbab-7ca1-412e-bd61-46f2538b34c4",
   "metadata": {},
   "source": [
    "## Визуал"
   ]
  },
  {
   "cell_type": "code",
   "execution_count": 2,
   "id": "2dd73719-8c88-43a2-b7d0-48b7e00e945d",
   "metadata": {},
   "outputs": [],
   "source": [
    "# Размеры игрового поля\n",
    "GRID_SIZE = 10\n",
    "CELL_SIZE = 30\n",
    "MARGIN = 5\n",
    "\n",
    "# Цвета для отображения\n",
    "BACKGROUND_COLOR = (255, 255, 255)\n",
    "LINE_COLOR = (0, 0, 0)\n",
    "SHIP_COLOR = (192, 192, 192)\n",
    "HIT_SHIP_COLOR = (0, 0, 255)  # Красный для попаданий\n",
    "MISS_COLOR = (0, 255, 255)  # Желтый для промахов\n",
    "\n",
    "# Загрузка изображения корабля\n",
    "ship_image = cv2.imread(r'ship.jpg')\n",
    "ship_image = cv2.resize(ship_image, (CELL_SIZE, CELL_SIZE))"
   ]
  },
  {
   "cell_type": "markdown",
   "id": "04b5b7cd-d4ff-4222-939d-8a99f14398b1",
   "metadata": {},
   "source": [
    "## Отрисовка"
   ]
  },
  {
   "cell_type": "code",
   "execution_count": 3,
   "id": "5fa4905d-553e-4f45-8261-bba6250378ef",
   "metadata": {},
   "outputs": [],
   "source": [
    "def create_board():\n",
    "    return np.zeros((GRID_SIZE, GRID_SIZE), dtype=np.int32)\n",
    "\n",
    "def can_place_ship(board, row, col, length, orientation):\n",
    "    if orientation == 'horizontal':\n",
    "        if col + length > GRID_SIZE:\n",
    "            return False\n",
    "        for i in range(max(0, col-1), min(GRID_SIZE, col+length+1)):\n",
    "            for j in range(max(0, row-1), min(GRID_SIZE, row+2)):\n",
    "                if board[j, i] == 1:\n",
    "                    return False\n",
    "    elif orientation == 'vertical':\n",
    "        if row + length > GRID_SIZE:\n",
    "            return False\n",
    "        for i in range(max(0, row-1), min(GRID_SIZE, row+length+1)):\n",
    "            for j in range(max(0, col-1), min(GRID_SIZE, col+2)):\n",
    "                if board[i, j] == 1:\n",
    "                    return False\n",
    "    return True"
   ]
  },
  {
   "cell_type": "markdown",
   "id": "5c40a784-6706-49a9-882e-0a6498295e61",
   "metadata": {},
   "source": [
    "## Клик и мастшаб"
   ]
  },
  {
   "cell_type": "code",
   "execution_count": 4,
   "id": "9a5e33c6-0008-40b7-8b10-584326f827c7",
   "metadata": {},
   "outputs": [],
   "source": [
    "def mouse_callback(event, x, y, flags, param):\n",
    "    global user_click, scale\n",
    "    if event == cv2.EVENT_LBUTTONDOWN:\n",
    "        img_width = GRID_SIZE * CELL_SIZE + MARGIN * (GRID_SIZE + 1)\n",
    "        if y > img_width * scale:\n",
    "            y -= int(img_width * scale)\n",
    "            col = int((x - MARGIN * scale) / ((CELL_SIZE + MARGIN) * scale))\n",
    "            row = int((y - MARGIN * scale) / ((CELL_SIZE + MARGIN) * scale))\n",
    "            if 0 <= row < GRID_SIZE and 0 <= col < GRID_SIZE:\n",
    "                user_click = (row, col)\n",
    "\n",
    "user_click = None\n",
    "scale = 1 # Масштабирование"
   ]
  },
  {
   "cell_type": "markdown",
   "id": "e20bd0b6-e3ee-4bc6-b54f-6bb24916d3b6",
   "metadata": {},
   "source": [
    "## Логика"
   ]
  },
  {
   "cell_type": "code",
   "execution_count": 5,
   "id": "4e40c75e-5430-4bb4-9409-e233d9c7d6c4",
   "metadata": {},
   "outputs": [],
   "source": [
    "def place_ships(board, ships):\n",
    "    for length in ships:\n",
    "        placed = False\n",
    "        while not placed:\n",
    "            orientation = random.choice(['horizontal', 'vertical'])\n",
    "            if orientation == 'horizontal':\n",
    "                row = random.randint(0, GRID_SIZE - 1)\n",
    "                col = random.randint(0, GRID_SIZE - length)\n",
    "                if can_place_ship(board, row, col, length, 'horizontal'):\n",
    "                    board[row, col:col + length] = 1\n",
    "                    placed = True\n",
    "            else:\n",
    "                row = random.randint(0, GRID_SIZE - length)\n",
    "                col = random.randint(0, GRID_SIZE - 1)\n",
    "                if can_place_ship(board, row, col, length, 'vertical'):\n",
    "                    board[row:row + length, col] = 1\n",
    "                    placed = True\n",
    "\n",
    "def draw_boards(player_board, player_shown, computer_shown, scale=1):\n",
    "    img_width = GRID_SIZE * CELL_SIZE + MARGIN * (GRID_SIZE + 1)\n",
    "    img_height = 2 * img_width + MARGIN\n",
    "\n",
    "    img = np.ones((img_height, img_width, 3), dtype=np.uint8) * 255\n",
    "\n",
    "    for board_idx, (board, shown_board) in enumerate([(player_board, player_shown), (None, computer_shown)]):\n",
    "        offset_y = board_idx * (img_width + MARGIN)\n",
    "\n",
    "        for row in range(GRID_SIZE):\n",
    "            for col in range(GRID_SIZE):\n",
    "                top_left = (col * CELL_SIZE + MARGIN * (col + 1),\n",
    "                            row * CELL_SIZE + MARGIN * (row + 1) + offset_y)\n",
    "                bottom_right = (top_left[0] + CELL_SIZE, top_left[1] + CELL_SIZE)\n",
    "\n",
    "                if shown_board[row, col] == 2:\n",
    "                    # Попадание по кораблю - показываем изображение или красный цвет\n",
    "                    if board_idx == 1:  # компьютера\n",
    "                        img[top_left[1]:bottom_right[1], top_left[0]:bottom_right[0]] = ship_image\n",
    "                    else:  # игрока\n",
    "                        cv2.rectangle(img, top_left, bottom_right, HIT_SHIP_COLOR, thickness=-1)\n",
    "                elif shown_board[row, col] == 3:\n",
    "                    # Промах\n",
    "                    cv2.circle(img, ((top_left[0] + bottom_right[0]) // 2,\n",
    "                                     (top_left[1] + bottom_right[1]) // 2),\n",
    "                               CELL_SIZE // 4, MISS_COLOR, thickness=2)\n",
    "\n",
    "                if board_idx == 0 and board is not None and board[row, col] == 1 and shown_board[row, col] != 2:\n",
    "                    img[top_left[1]:bottom_right[1], top_left[0]:bottom_right[0]] = ship_image\n",
    "\n",
    "                cv2.rectangle(img, top_left, bottom_right, LINE_COLOR, thickness=2)\n",
    "\n",
    "    new_img_width = int(img_width * scale)\n",
    "    new_img_height = int(img_height * scale)\n",
    "    img = cv2.resize(img, (new_img_width, new_img_height))\n",
    "\n",
    "    return img\n",
    "\n",
    "def shoot(board, shown_board, row, col):\n",
    "    if board[row, col] == 1:\n",
    "        shown_board[row, col] = 2\n",
    "        return True\n",
    "    else:\n",
    "        shown_board[row, col] = 3\n",
    "        return False\n",
    "\n",
    "def get_neighbors(row, col):\n",
    "    return [(row-1, col), (row+1, col), (row, col-1), (row, col+1)]"
   ]
  },
  {
   "cell_type": "markdown",
   "id": "3d69b905-06c2-4359-b06b-f53b06052658",
   "metadata": {},
   "source": [
    "## Запуск"
   ]
  },
  {
   "cell_type": "code",
   "execution_count": 7,
   "id": "9bedc9dd-b041-4dfd-bdc6-bcc8403308ad",
   "metadata": {},
   "outputs": [
    {
     "name": "stdout",
     "output_type": "stream",
     "text": [
      "Промах!\n",
      "Компьютер промахнулся: 7, 3\n",
      "Промах!\n",
      "Компьютер промахнулся: 1, 4\n",
      "Промах!\n",
      "Компьютер промахнулся: 2, 3\n",
      "Промах!\n",
      "Компьютер попал: 2, 2\n",
      "Промах!\n",
      "Компьютер промахнулся: 2, 1\n",
      "Сюда уже стреляли! Попробуйте другую точку.\n",
      "Промах!\n",
      "Компьютер промахнулся: 3, 2\n",
      "Попадание!\n",
      "Компьютер промахнулся: 1, 2\n",
      "Промах!\n",
      "Компьютер промахнулся: 0, 6\n"
     ]
    }
   ],
   "source": [
    "def main():\n",
    "    global user_click, scale\n",
    "\n",
    "    player_board = create_board()\n",
    "    computer_board = create_board()\n",
    "\n",
    "    ships = [4, 3, 3, 2, 2, 2, 1, 1, 1, 1]\n",
    "    place_ships(player_board, ships)\n",
    "    place_ships(computer_board, ships)\n",
    "\n",
    "    shown_player_board = np.zeros_like(player_board)\n",
    "    shown_computer_board = np.zeros_like(computer_board)\n",
    "\n",
    "    hunt_targets = []  # Цели компьютера для уничтожения\n",
    "    game_over = False\n",
    "\n",
    "    cv2.namedWindow('Морской бой', cv2.WINDOW_NORMAL)\n",
    "    cv2.setMouseCallback('Морской бой', mouse_callback)\n",
    "\n",
    "    while not game_over:\n",
    "        board_img = draw_boards(player_board, shown_player_board, shown_computer_board, scale=scale)\n",
    "        cv2.imshow('Морской бой', board_img)\n",
    "        key = cv2.waitKey(10) & 0xFF\n",
    "        if key == ord('q'):\n",
    "            break\n",
    "\n",
    "        if user_click is not None:\n",
    "            row, col = user_click\n",
    "            user_click = None\n",
    "\n",
    "            if shown_computer_board[row, col] != 0:\n",
    "                print(\"Сюда уже стреляли! Попробуйте другую точку.\")\n",
    "                continue\n",
    "\n",
    "            hit = shoot(computer_board, shown_computer_board, row, col)\n",
    "            if hit:\n",
    "                print(\"Попадание!\")\n",
    "            else:\n",
    "                print(\"Промах!\")\n",
    "\n",
    "            if np.all((shown_computer_board == 2) == (computer_board == 1)):\n",
    "                game_over = True\n",
    "                print(\"Вы победили!\")\n",
    "                break\n",
    "\n",
    "            # Умная стрельба компьютера\n",
    "            if hunt_targets:\n",
    "                comp_row, comp_col = hunt_targets.pop()\n",
    "            else:\n",
    "                comp_row, comp_col = random.randint(0, GRID_SIZE - 1), random.randint(0, GRID_SIZE - 1)\n",
    "                while shown_player_board[comp_row, comp_col] != 0:\n",
    "                    comp_row, comp_col = random.randint(0, GRID_SIZE - 1), random.randint(0, GRID_SIZE - 1)\n",
    "\n",
    "            shot_result = shoot(player_board, shown_player_board, comp_row, comp_col)\n",
    "            if shot_result:\n",
    "                print(f\"Компьютер попал: {comp_row}, {comp_col}\")\n",
    "                # Добавляем соседние клетки в очередь для дальнейшего поиска и уничтожения\n",
    "                hunt_targets.extend(\n",
    "                    [(r, c) for r, c in get_neighbors(comp_row, comp_col)\n",
    "                     if 0 <= r < GRID_SIZE and 0 <= c < GRID_SIZE and shown_player_board[r, c] == 0]\n",
    "                )\n",
    "            else:\n",
    "                print(f\"Компьютер промахнулся: {comp_row}, {comp_col}\")\n",
    "\n",
    "            if np.all((shown_player_board == 2) == (player_board == 1)):\n",
    "                game_over = True\n",
    "                print(\"Компьютер победил!\")\n",
    "                break\n",
    "\n",
    "    cv2.destroyAllWindows()\n",
    "\n",
    "if __name__ == \"__main__\":\n",
    "    main()\n"
   ]
  },
  {
   "cell_type": "code",
   "execution_count": null,
   "id": "364c83ab-5d3f-4367-aa59-3d885b22cf54",
   "metadata": {},
   "outputs": [],
   "source": []
  },
  {
   "cell_type": "code",
   "execution_count": null,
   "id": "f5383b7d-7f6d-446c-ae58-c64e14ac04f3",
   "metadata": {},
   "outputs": [],
   "source": []
  }
 ],
 "metadata": {
  "kernelspec": {
   "display_name": "Python 3 (ipykernel)",
   "language": "python",
   "name": "python3"
  },
  "language_info": {
   "codemirror_mode": {
    "name": "ipython",
    "version": 3
   },
   "file_extension": ".py",
   "mimetype": "text/x-python",
   "name": "python",
   "nbconvert_exporter": "python",
   "pygments_lexer": "ipython3",
   "version": "3.11.9"
  }
 },
 "nbformat": 4,
 "nbformat_minor": 5
}
